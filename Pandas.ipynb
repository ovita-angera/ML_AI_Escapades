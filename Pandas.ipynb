{
 "cells": [
  {
   "cell_type": "markdown",
   "id": "4cf7d251",
   "metadata": {},
   "source": [
    "### Pandas\n",
    "This notebook is aimed at displaying the extensive application of pandas in doing exploratory data analysis and finding out preliminary detail which might be important in evaluating the methods to model the data, type of features, develop a quick overview of the dataset"
   ]
  },
  {
   "cell_type": "code",
   "execution_count": 1,
   "id": "c6ce1acf-028b-4981-b7f2-fec95a493633",
   "metadata": {},
   "outputs": [],
   "source": [
    "import pandas as pd"
   ]
  },
  {
   "cell_type": "code",
   "execution_count": 2,
   "id": "fb154866",
   "metadata": {},
   "outputs": [
    {
     "data": {
      "text/html": [
       "<div>\n",
       "<style scoped>\n",
       "    .dataframe tbody tr th:only-of-type {\n",
       "        vertical-align: middle;\n",
       "    }\n",
       "\n",
       "    .dataframe tbody tr th {\n",
       "        vertical-align: top;\n",
       "    }\n",
       "\n",
       "    .dataframe thead th {\n",
       "        text-align: right;\n",
       "    }\n",
       "</style>\n",
       "<table border=\"1\" class=\"dataframe\">\n",
       "  <thead>\n",
       "    <tr style=\"text-align: right;\">\n",
       "      <th></th>\n",
       "      <th>names</th>\n",
       "      <th>gender</th>\n",
       "      <th>dateOfBirth</th>\n",
       "      <th>registrationNumber</th>\n",
       "      <th>course</th>\n",
       "    </tr>\n",
       "  </thead>\n",
       "  <tbody>\n",
       "    <tr>\n",
       "      <th>0</th>\n",
       "      <td>Mary</td>\n",
       "      <td>F</td>\n",
       "      <td>12/12/2000</td>\n",
       "      <td>MM123</td>\n",
       "      <td>Actuarial science</td>\n",
       "    </tr>\n",
       "    <tr>\n",
       "      <th>1</th>\n",
       "      <td>Leon</td>\n",
       "      <td>M</td>\n",
       "      <td>08/11/1996</td>\n",
       "      <td>LO124</td>\n",
       "      <td>Financial engineering</td>\n",
       "    </tr>\n",
       "    <tr>\n",
       "      <th>2</th>\n",
       "      <td>Julie</td>\n",
       "      <td>F</td>\n",
       "      <td>19/06/1997</td>\n",
       "      <td>JG125</td>\n",
       "      <td>Statistics</td>\n",
       "    </tr>\n",
       "    <tr>\n",
       "      <th>3</th>\n",
       "      <td>Neyna</td>\n",
       "      <td>F</td>\n",
       "      <td>21/08/1998</td>\n",
       "      <td>NM126</td>\n",
       "      <td>Mathematics</td>\n",
       "    </tr>\n",
       "    <tr>\n",
       "      <th>4</th>\n",
       "      <td>Bernard</td>\n",
       "      <td>M</td>\n",
       "      <td>17/11/2004</td>\n",
       "      <td>BM127</td>\n",
       "      <td>Geospatial engineering</td>\n",
       "    </tr>\n",
       "  </tbody>\n",
       "</table>\n",
       "</div>"
      ],
      "text/plain": [
       "     names gender dateOfBirth registrationNumber                  course\n",
       "0     Mary      F  12/12/2000              MM123       Actuarial science\n",
       "1     Leon      M  08/11/1996              LO124   Financial engineering\n",
       "2    Julie      F  19/06/1997              JG125              Statistics\n",
       "3    Neyna      F  21/08/1998              NM126             Mathematics\n",
       "4  Bernard      M  17/11/2004              BM127  Geospatial engineering"
      ]
     },
     "execution_count": 2,
     "metadata": {},
     "output_type": "execute_result"
    }
   ],
   "source": [
    "dataDict: dict = {\n",
    "    'names': [\"Mary\", \"Leon\", \"Julie\", \"Neyna\", \"Bernard\"],\n",
    "    'gender': ['F', 'M', 'F', 'F', 'M'],\n",
    "    'dateOfBirth': ['12/12/2000', '08/11/1996', '19/06/1997', '21/08/1998', '17/11/2004'],\n",
    "    'registrationNumber': ['MM123', 'LO124', 'JG125', 'NM126', 'BM127'],\n",
    "    'course': ['Actuarial science', 'Financial engineering', 'Statistics', 'Mathematics', 'Geospatial engineering']    \n",
    "}\n",
    "\n",
    "df: pd.DataFrame = pd.DataFrame(dataDict)\n",
    "\n",
    "df"
   ]
  },
  {
   "cell_type": "markdown",
   "id": "02c890de",
   "metadata": {},
   "source": [
    "**First and Last records**\\\n",
    "Show the first records using `head()` and last records using `tail()`\\\n",
    "You can add an argument in the functions to indicate the number of records you need to display"
   ]
  },
  {
   "cell_type": "code",
   "execution_count": 3,
   "id": "fb89c54d",
   "metadata": {},
   "outputs": [
    {
     "data": {
      "text/html": [
       "<div>\n",
       "<style scoped>\n",
       "    .dataframe tbody tr th:only-of-type {\n",
       "        vertical-align: middle;\n",
       "    }\n",
       "\n",
       "    .dataframe tbody tr th {\n",
       "        vertical-align: top;\n",
       "    }\n",
       "\n",
       "    .dataframe thead th {\n",
       "        text-align: right;\n",
       "    }\n",
       "</style>\n",
       "<table border=\"1\" class=\"dataframe\">\n",
       "  <thead>\n",
       "    <tr style=\"text-align: right;\">\n",
       "      <th></th>\n",
       "      <th>names</th>\n",
       "      <th>gender</th>\n",
       "      <th>dateOfBirth</th>\n",
       "      <th>registrationNumber</th>\n",
       "      <th>course</th>\n",
       "    </tr>\n",
       "  </thead>\n",
       "  <tbody>\n",
       "    <tr>\n",
       "      <th>0</th>\n",
       "      <td>Mary</td>\n",
       "      <td>F</td>\n",
       "      <td>12/12/2000</td>\n",
       "      <td>MM123</td>\n",
       "      <td>Actuarial science</td>\n",
       "    </tr>\n",
       "    <tr>\n",
       "      <th>1</th>\n",
       "      <td>Leon</td>\n",
       "      <td>M</td>\n",
       "      <td>08/11/1996</td>\n",
       "      <td>LO124</td>\n",
       "      <td>Financial engineering</td>\n",
       "    </tr>\n",
       "    <tr>\n",
       "      <th>2</th>\n",
       "      <td>Julie</td>\n",
       "      <td>F</td>\n",
       "      <td>19/06/1997</td>\n",
       "      <td>JG125</td>\n",
       "      <td>Statistics</td>\n",
       "    </tr>\n",
       "  </tbody>\n",
       "</table>\n",
       "</div>"
      ],
      "text/plain": [
       "   names gender dateOfBirth registrationNumber                 course\n",
       "0   Mary      F  12/12/2000              MM123      Actuarial science\n",
       "1   Leon      M  08/11/1996              LO124  Financial engineering\n",
       "2  Julie      F  19/06/1997              JG125             Statistics"
      ]
     },
     "execution_count": 3,
     "metadata": {},
     "output_type": "execute_result"
    }
   ],
   "source": [
    "# using the loaded dataset\n",
    "# show first three and last three records\n",
    "# first three records\n",
    "df.head(3)"
   ]
  },
  {
   "cell_type": "code",
   "execution_count": 4,
   "id": "fd8ffd43",
   "metadata": {},
   "outputs": [
    {
     "data": {
      "text/html": [
       "<div>\n",
       "<style scoped>\n",
       "    .dataframe tbody tr th:only-of-type {\n",
       "        vertical-align: middle;\n",
       "    }\n",
       "\n",
       "    .dataframe tbody tr th {\n",
       "        vertical-align: top;\n",
       "    }\n",
       "\n",
       "    .dataframe thead th {\n",
       "        text-align: right;\n",
       "    }\n",
       "</style>\n",
       "<table border=\"1\" class=\"dataframe\">\n",
       "  <thead>\n",
       "    <tr style=\"text-align: right;\">\n",
       "      <th></th>\n",
       "      <th>names</th>\n",
       "      <th>gender</th>\n",
       "      <th>dateOfBirth</th>\n",
       "      <th>registrationNumber</th>\n",
       "      <th>course</th>\n",
       "    </tr>\n",
       "  </thead>\n",
       "  <tbody>\n",
       "    <tr>\n",
       "      <th>2</th>\n",
       "      <td>Julie</td>\n",
       "      <td>F</td>\n",
       "      <td>19/06/1997</td>\n",
       "      <td>JG125</td>\n",
       "      <td>Statistics</td>\n",
       "    </tr>\n",
       "    <tr>\n",
       "      <th>3</th>\n",
       "      <td>Neyna</td>\n",
       "      <td>F</td>\n",
       "      <td>21/08/1998</td>\n",
       "      <td>NM126</td>\n",
       "      <td>Mathematics</td>\n",
       "    </tr>\n",
       "    <tr>\n",
       "      <th>4</th>\n",
       "      <td>Bernard</td>\n",
       "      <td>M</td>\n",
       "      <td>17/11/2004</td>\n",
       "      <td>BM127</td>\n",
       "      <td>Geospatial engineering</td>\n",
       "    </tr>\n",
       "  </tbody>\n",
       "</table>\n",
       "</div>"
      ],
      "text/plain": [
       "     names gender dateOfBirth registrationNumber                  course\n",
       "2    Julie      F  19/06/1997              JG125              Statistics\n",
       "3    Neyna      F  21/08/1998              NM126             Mathematics\n",
       "4  Bernard      M  17/11/2004              BM127  Geospatial engineering"
      ]
     },
     "execution_count": 4,
     "metadata": {},
     "output_type": "execute_result"
    }
   ],
   "source": [
    "# last three records\n",
    "df.tail(3)"
   ]
  },
  {
   "cell_type": "markdown",
   "id": "fa5a5fa4",
   "metadata": {},
   "source": [
    "**Information about the dataset**\\\n",
    "Including the number of rows, number of columns, data types of the attributes in the data frame\\\n",
    "There are a couple of ways to do it - to get the total number of rows and columns in a single result you can use `.shape` attribute on the dataframe which returns a tuple of format `(numberOfRows, numberOfColumns)`. \n",
    "\n",
    "A second approach would be to use the `info()` function on the data frame\n",
    "To illustrate this using the dataset above, "
   ]
  },
  {
   "cell_type": "code",
   "execution_count": 5,
   "id": "8aa53aad",
   "metadata": {},
   "outputs": [
    {
     "name": "stdout",
     "output_type": "stream",
     "text": [
      "Number of rows: 5\n",
      "Number of columns: 5\n"
     ]
    }
   ],
   "source": [
    "# using the .shape attribute\n",
    "print(f\"Number of rows: {df.shape[0]}\\nNumber of columns: {df.shape[1]}\")"
   ]
  },
  {
   "cell_type": "code",
   "execution_count": 6,
   "id": "fddbbc72",
   "metadata": {},
   "outputs": [
    {
     "name": "stdout",
     "output_type": "stream",
     "text": [
      "<class 'pandas.core.frame.DataFrame'>\n",
      "RangeIndex: 5 entries, 0 to 4\n",
      "Data columns (total 5 columns):\n",
      " #   Column              Non-Null Count  Dtype \n",
      "---  ------              --------------  ----- \n",
      " 0   names               5 non-null      object\n",
      " 1   gender              5 non-null      object\n",
      " 2   dateOfBirth         5 non-null      object\n",
      " 3   registrationNumber  5 non-null      object\n",
      " 4   course              5 non-null      object\n",
      "dtypes: object(5)\n",
      "memory usage: 332.0+ bytes\n"
     ]
    }
   ],
   "source": [
    "# using the df.info\n",
    "df.info()"
   ]
  },
  {
   "cell_type": "markdown",
   "id": "bf1b15ce",
   "metadata": {},
   "source": [
    "**More pandas**\\\n",
    "There are methods to find unique items, their number and even their value counts in pandas\\\n",
    "\n",
    "To find the unique values: `unique()`\\\n",
    "To find the number of unique values: `nunique()`\\\n",
    "To find the value counts of the unique values: `value_counts()`\n",
    "\n",
    "In this case, such a column would be the gender column"
   ]
  },
  {
   "cell_type": "code",
   "execution_count": 7,
   "id": "937c03bd",
   "metadata": {},
   "outputs": [
    {
     "data": {
      "text/plain": [
       "array(['F', 'M'], dtype=object)"
      ]
     },
     "execution_count": 7,
     "metadata": {},
     "output_type": "execute_result"
    }
   ],
   "source": [
    "## unique values\n",
    "df['gender'].unique()"
   ]
  },
  {
   "cell_type": "code",
   "execution_count": 8,
   "id": "62dd90bc",
   "metadata": {},
   "outputs": [
    {
     "data": {
      "text/plain": [
       "2"
      ]
     },
     "execution_count": 8,
     "metadata": {},
     "output_type": "execute_result"
    }
   ],
   "source": [
    "## number of unique values\n",
    "df['gender'].nunique()"
   ]
  },
  {
   "cell_type": "code",
   "execution_count": 10,
   "id": "ab6c560d",
   "metadata": {},
   "outputs": [
    {
     "data": {
      "text/plain": [
       "gender\n",
       "F    3\n",
       "M    2\n",
       "Name: count, dtype: int64"
      ]
     },
     "execution_count": 10,
     "metadata": {},
     "output_type": "execute_result"
    }
   ],
   "source": [
    "## value counts for the unique values\n",
    "df['gender'].value_counts()"
   ]
  },
  {
   "cell_type": "markdown",
   "id": "0b6e3eda",
   "metadata": {},
   "source": [
    "**Mathematics**\\\n",
    "There are ideal methods to incorporate conditional into pandas, some of these are pretty straighforward and some require a bit of technique to find the desired result.\n",
    "\n",
    "Therefore, to begin; we can find the average, minimum, maximum, count of values using pandas"
   ]
  },
  {
   "cell_type": "markdown",
   "id": "d7338c7e",
   "metadata": {},
   "source": [
    "***Sample question***\\\n",
    "Find the number of students with marks between 60 and 80?"
   ]
  },
  {
   "cell_type": "code",
   "execution_count": 11,
   "id": "8f51f9a8",
   "metadata": {},
   "outputs": [],
   "source": [
    "df['score'] = [57, 62, 78, 70, 90]"
   ]
  },
  {
   "cell_type": "code",
   "execution_count": 18,
   "id": "e6556fa4",
   "metadata": {},
   "outputs": [
    {
     "data": {
      "text/plain": [
       "3"
      ]
     },
     "execution_count": 18,
     "metadata": {},
     "output_type": "execute_result"
    }
   ],
   "source": [
    "# without using any pandas method\n",
    "((df['score'] >= 60) & (df['score'] <= 80)).sum()"
   ]
  },
  {
   "cell_type": "code",
   "execution_count": 19,
   "id": "104557b8",
   "metadata": {},
   "outputs": [
    {
     "data": {
      "text/plain": [
       "3"
      ]
     },
     "execution_count": 19,
     "metadata": {},
     "output_type": "execute_result"
    }
   ],
   "source": [
    "# using pandas method .between()\n",
    "df['score'].between(60, 80).sum()"
   ]
  },
  {
   "cell_type": "code",
   "execution_count": null,
   "id": "138098c1",
   "metadata": {},
   "outputs": [],
   "source": []
  }
 ],
 "metadata": {
  "kernelspec": {
   "display_name": "Python 3 (ipykernel)",
   "language": "python",
   "name": "python3"
  },
  "language_info": {
   "codemirror_mode": {
    "name": "ipython",
    "version": 3
   },
   "file_extension": ".py",
   "mimetype": "text/x-python",
   "name": "python",
   "nbconvert_exporter": "python",
   "pygments_lexer": "ipython3",
   "version": "3.12.4"
  }
 },
 "nbformat": 4,
 "nbformat_minor": 5
}
